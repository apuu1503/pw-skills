{
 "cells": [
  {
   "cell_type": "code",
   "execution_count": 3,
   "id": "5ef12385-1230-4ed3-8dea-682c31d25b67",
   "metadata": {},
   "outputs": [
    {
     "data": {
      "text/plain": [
       "30"
      ]
     },
     "execution_count": 3,
     "metadata": {},
     "output_type": "execute_result"
    }
   ],
   "source": [
    "#question1\n",
    "def abcd():\n",
    "    a=10\n",
    "    b=20\n",
    "    return(a+b)\n",
    "\n",
    "abcd()"
   ]
  },
  {
   "cell_type": "code",
   "execution_count": 5,
   "id": "cecd59ab-7f7b-4212-bde3-1d488ce1032b",
   "metadata": {},
   "outputs": [
    {
     "name": "stdout",
     "output_type": "stream",
     "text": [
      "161\n"
     ]
    }
   ],
   "source": [
    "#question2\n",
    "def sum(*args):\n",
    "    total= 0\n",
    "    for num in args:\n",
    "        total+= num\n",
    "    return total\n",
    "num=sum(1,2,3,4,5,34,45,67)\n",
    "print(num)"
   ]
  },
  {
   "cell_type": "code",
   "execution_count": 13,
   "id": "5917b389-bc35-4b80-a4f8-692df3dd32ec",
   "metadata": {},
   "outputs": [
    {
     "name": "stdout",
     "output_type": "stream",
     "text": [
      "name: xyz\n",
      "age: 30\n",
      "city: New York\n"
     ]
    }
   ],
   "source": [
    "def print_args(**kwargs):\n",
    "    for key, value in kwargs.items():\n",
    "        print(f\"{key}: {value}\")\n",
    "\n",
    "print_args(name=\"xyz\", age=30, city=\"New York\")\n"
   ]
  },
  {
   "cell_type": "code",
   "execution_count": 22,
   "id": "175ac652-e709-41d5-9a12-b96414322462",
   "metadata": {},
   "outputs": [
    {
     "name": "stdout",
     "output_type": "stream",
     "text": [
      "2\n",
      "4\n",
      "6\n",
      "8\n",
      "10\n"
     ]
    }
   ],
   "source": [
    "#question 3\n",
    "#an object that allows you to iterate over collections of data, such as lists, tuples, dictionaries, and sets.\n",
    "a=[2,4,6,8,10,12,14,16,18,20]\n",
    "for i in range(5):\n",
    "    print(a[i])"
   ]
  },
  {
   "cell_type": "code",
   "execution_count": 23,
   "id": "ee3e22c0-b534-43cd-8caf-73aaa50e2b2e",
   "metadata": {},
   "outputs": [
    {
     "name": "stdout",
     "output_type": "stream",
     "text": [
      "5\n",
      "4\n",
      "3\n",
      "2\n",
      "1\n"
     ]
    }
   ],
   "source": [
    "#question 4\n",
    "#A generator function in Python is a special type of function that allows you to create an iterator in a more concise and memory-efficient way. \n",
    "#yeild helps to generate as well as store states.\n",
    "def countdown(n):\n",
    "    while n > 0:\n",
    "        yield n\n",
    "        n -= 1\n",
    "\n",
    "for count in countdown(5):\n",
    "    print(count)"
   ]
  },
  {
   "cell_type": "code",
   "execution_count": 38,
   "id": "84a6de02-6756-4178-896e-40ad456fce35",
   "metadata": {},
   "outputs": [
    {
     "name": "stdout",
     "output_type": "stream",
     "text": [
      "2\n",
      "3\n",
      "5\n",
      "7\n",
      "11\n",
      "13\n",
      "17\n",
      "19\n",
      "23\n",
      "29\n",
      "31\n",
      "37\n",
      "41\n",
      "43\n",
      "47\n",
      "53\n",
      "59\n",
      "61\n",
      "67\n",
      "71\n"
     ]
    }
   ],
   "source": [
    "#question 5\n",
    "def is_prime(num):\n",
    "    if num < 2:\n",
    "        return False\n",
    "    for i in range(2, int(num**0.5) + 1):\n",
    "        if num % i == 0:\n",
    "            return False\n",
    "    return True\n",
    "\n",
    "def primes_generator(limit):\n",
    "    num = 2\n",
    "    count = 0\n",
    "    while count < limit:\n",
    "        if is_prime(num):\n",
    "            yield num\n",
    "            count += 1\n",
    "        num += 1\n",
    "\n",
    "limit = 20\n",
    "prime_gen = primes_generator(limit)\n",
    "\n",
    "for _ in range(limit):\n",
    "    print(next(prime_gen))\n"
   ]
  },
  {
   "cell_type": "code",
   "execution_count": 43,
   "id": "5f04261c-6b12-42b6-9bb4-bbef07bce452",
   "metadata": {},
   "outputs": [
    {
     "name": "stdout",
     "output_type": "stream",
     "text": [
      "The first 10 Fibonacci numbers are:\n",
      "0\n",
      "1\n",
      "1\n",
      "2\n",
      "3\n",
      "5\n",
      "8\n",
      "13\n",
      "21\n",
      "34\n"
     ]
    }
   ],
   "source": [
    "#question 6\n",
    "def generate_fibonacci(limit):\n",
    "    fib_list = []\n",
    "    a, b = 0, 1\n",
    "\n",
    "    while len(fib_list) < limit:\n",
    "        fib_list.append(a)\n",
    "        a, b = b, a + b\n",
    "\n",
    "    return fib_list\n",
    "\n",
    "limit = 10\n",
    "fibonacci_numbers = generate_fibonacci(limit)\n",
    "\n",
    "print(\"The first 10 Fibonacci numbers are:\")\n",
    "for number in fibonacci_numbers:\n",
    "    print(number)\n",
    "\n",
    "    "
   ]
  },
  {
   "cell_type": "code",
   "execution_count": 44,
   "id": "b537c6aa-d2a1-4d42-a1b7-adf3d20cc69b",
   "metadata": {},
   "outputs": [
    {
     "name": "stdout",
     "output_type": "stream",
     "text": [
      "['p', 'w', 's', 'k', 'i', 'l', 'l', 's']\n"
     ]
    }
   ],
   "source": [
    "#question 7\n",
    "input_string = 'pwskills'\n",
    "result_list = [char for char in input_string]\n",
    "print(result_list)"
   ]
  },
  {
   "cell_type": "code",
   "execution_count": 48,
   "id": "d2b4f8aa-a33f-4a39-8aad-4aa68df7463b",
   "metadata": {},
   "outputs": [
    {
     "name": "stdout",
     "output_type": "stream",
     "text": [
      "1221 is a palindrome.\n"
     ]
    }
   ],
   "source": [
    "#question 8\n",
    "def is_palindrome(number):\n",
    "    original_number = number\n",
    "    reversed_number = 0\n",
    "\n",
    "    while number > 0:\n",
    "        digit = number % 10\n",
    "        reversed_number = reversed_number * 10 + digit\n",
    "        number = number // 10\n",
    "\n",
    "    return original_number == reversed_number\n",
    "\n",
    "num =1221\n",
    "if is_palindrome(num):\n",
    "    print(f\"{num} is a palindrome.\")\n",
    "else:\n",
    "    print(f\"{num} is not a palindrome.\")\n"
   ]
  },
  {
   "cell_type": "code",
   "execution_count": null,
   "id": "18f24a65-7435-4f61-b26e-3ae2a02299be",
   "metadata": {},
   "outputs": [],
   "source": []
  }
 ],
 "metadata": {
  "kernelspec": {
   "display_name": "Python 3 (ipykernel)",
   "language": "python",
   "name": "python3"
  },
  "language_info": {
   "codemirror_mode": {
    "name": "ipython",
    "version": 3
   },
   "file_extension": ".py",
   "mimetype": "text/x-python",
   "name": "python",
   "nbconvert_exporter": "python",
   "pygments_lexer": "ipython3",
   "version": "3.10.8"
  }
 },
 "nbformat": 4,
 "nbformat_minor": 5
}
