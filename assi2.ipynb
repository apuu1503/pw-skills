{
 "cells": [
  {
   "cell_type": "code",
   "execution_count": 9,
   "id": "54c19cca-387f-4e5e-a923-31d143d8d2d3",
   "metadata": {},
   "outputs": [
    {
     "data": {
      "text/plain": [
       "' abc '"
      ]
     },
     "execution_count": 9,
     "metadata": {},
     "output_type": "execute_result"
    }
   ],
   "source": [
    "#question1\n",
    "#two types of comments single line # and multiline as \"\"\" xyz \"\"\"\n",
    "#abc\n",
    "\"\"\"abcd\"\"\"\n",
    "''' abc '''"
   ]
  },
  {
   "cell_type": "code",
   "execution_count": 11,
   "id": "f349974f-ca0a-4dce-b119-ecd908d6ca23",
   "metadata": {},
   "outputs": [],
   "source": [
    "#question 2\n",
    "# variables in python are the storage units which one can you to store values and the value can be changed.\n",
    "a = 123 #declaration and assigning value"
   ]
  },
  {
   "cell_type": "code",
   "execution_count": 14,
   "id": "fdc7699f-2aa0-40b4-849e-3f67200768ad",
   "metadata": {},
   "outputs": [
    {
     "name": "stdout",
     "output_type": "stream",
     "text": [
      "<class 'int'>\n",
      "<class 'str'>\n"
     ]
    }
   ],
   "source": [
    "#question 3\n",
    "a=123\n",
    "print(type(a))\n",
    "s= str(a)\n",
    "print(type(s))"
   ]
  },
  {
   "cell_type": "code",
   "execution_count": 16,
   "id": "0cc3dcbb-02fa-46cb-b985-acacb829844f",
   "metadata": {},
   "outputs": [],
   "source": [
    "#question 4\n",
    "#to run python code on command line use command \n",
    "#python file.py"
   ]
  },
  {
   "cell_type": "code",
   "execution_count": 20,
   "id": "c33b33fc-48a1-45e8-817f-46bc2d8d4313",
   "metadata": {},
   "outputs": [
    {
     "name": "stdout",
     "output_type": "stream",
     "text": [
      "[2, 3]\n"
     ]
    }
   ],
   "source": [
    "#question 5\n",
    "my_list=[1,2,3,4,5]\n",
    "a = slice(1,3)\n",
    "print(my_list[a])"
   ]
  },
  {
   "cell_type": "code",
   "execution_count": 23,
   "id": "8aad5819-ad3f-4176-88c4-398620ada2d6",
   "metadata": {},
   "outputs": [
    {
     "name": "stdout",
     "output_type": "stream",
     "text": [
      "(2+9j)\n"
     ]
    }
   ],
   "source": [
    "#question 6\n",
    "#complex number in mathematics is the number that represents the value of sqrt of -1. IT is made up from real and imaginary part\n",
    "import cmath\n",
    "x=2\n",
    "y=9\n",
    "img=complex(x,y)\n",
    "print(img)\n"
   ]
  },
  {
   "cell_type": "code",
   "execution_count": 25,
   "id": "163023fd-f966-41c9-85d8-a56df75298e9",
   "metadata": {},
   "outputs": [],
   "source": [
    "#question 7\n",
    "age=25"
   ]
  },
  {
   "cell_type": "code",
   "execution_count": 26,
   "id": "edbfa882-a5ef-442e-b7d0-a13d72fa50f8",
   "metadata": {},
   "outputs": [
    {
     "name": "stdout",
     "output_type": "stream",
     "text": [
      "<class 'float'>\n"
     ]
    }
   ],
   "source": [
    "#question 8\n",
    "price=9.99\n",
    "print(type(price))"
   ]
  },
  {
   "cell_type": "code",
   "execution_count": 28,
   "id": "456273fe-b7ba-47df-b8fc-c67bb64ce90f",
   "metadata": {},
   "outputs": [
    {
     "name": "stdout",
     "output_type": "stream",
     "text": [
      "Apurva Amol Sukale\n"
     ]
    }
   ],
   "source": [
    "#question 9\n",
    "name=\"Apurva Amol Sukale\"\n",
    "print(name)"
   ]
  },
  {
   "cell_type": "code",
   "execution_count": 37,
   "id": "7b4e985d-267e-46f6-8c0e-7db383dae574",
   "metadata": {},
   "outputs": [
    {
     "name": "stdout",
     "output_type": "stream",
     "text": [
      "world\n"
     ]
    }
   ],
   "source": [
    "#question 10\n",
    "string=\"hello world\"\n",
    "print(string[6:11])"
   ]
  },
  {
   "cell_type": "code",
   "execution_count": 40,
   "id": "2db0207d-b582-41ee-8cdd-fdafdfd4c64e",
   "metadata": {},
   "outputs": [
    {
     "name": "stdout",
     "output_type": "stream",
     "text": [
      "True\n"
     ]
    }
   ],
   "source": [
    "#question 11\n",
    "is_student= True\n",
    "print(is_student)"
   ]
  },
  {
   "cell_type": "code",
   "execution_count": null,
   "id": "29a5c149-1b10-419c-87c5-75d234bfe0f0",
   "metadata": {},
   "outputs": [],
   "source": []
  }
 ],
 "metadata": {
  "kernelspec": {
   "display_name": "Python 3 (ipykernel)",
   "language": "python",
   "name": "python3"
  },
  "language_info": {
   "codemirror_mode": {
    "name": "ipython",
    "version": 3
   },
   "file_extension": ".py",
   "mimetype": "text/x-python",
   "name": "python",
   "nbconvert_exporter": "python",
   "pygments_lexer": "ipython3",
   "version": "3.10.8"
  }
 },
 "nbformat": 4,
 "nbformat_minor": 5
}
