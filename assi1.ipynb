{
 "cells": [
  {
   "cell_type": "code",
   "execution_count": 1,
   "id": "d7303ae0-fae1-4411-bec0-f23a3a1cda6e",
   "metadata": {},
   "outputs": [
    {
     "name": "stdout",
     "output_type": "stream",
     "text": [
      "Programmer\n"
     ]
    },
    {
     "data": {
      "text/plain": [
       "str"
      ]
     },
     "execution_count": 1,
     "metadata": {},
     "output_type": "execute_result"
    }
   ],
   "source": [
    "#question1\n",
    "var1=\"Programmer\"\n",
    "print(var1)\n",
    "type(var1)"
   ]
  },
  {
   "cell_type": "code",
   "execution_count": 4,
   "id": "35b53372-b9ff-4a61-89c1-9e04b1ac9cea",
   "metadata": {},
   "outputs": [
    {
     "data": {
      "text/plain": [
       "list"
      ]
     },
     "execution_count": 4,
     "metadata": {},
     "output_type": "execute_result"
    }
   ],
   "source": [
    "var2=[\"a\",1,\"string\",[1,2,3]]\n",
    "type(var2[3])"
   ]
  },
  {
   "cell_type": "code",
   "execution_count": 5,
   "id": "8b2eaf97-187e-43ea-8e76-7d1ee4e53a01",
   "metadata": {},
   "outputs": [
    {
     "data": {
      "text/plain": [
       "list"
      ]
     },
     "execution_count": 5,
     "metadata": {},
     "output_type": "execute_result"
    }
   ],
   "source": [
    "type(var2)"
   ]
  },
  {
   "cell_type": "code",
   "execution_count": 6,
   "id": "008b2e7a-0a65-4a76-8aea-e923bcdb0096",
   "metadata": {},
   "outputs": [
    {
     "data": {
      "text/plain": [
       "float"
      ]
     },
     "execution_count": 6,
     "metadata": {},
     "output_type": "execute_result"
    }
   ],
   "source": [
    "var3=0.4567\n",
    "type(var3)"
   ]
  },
  {
   "cell_type": "code",
   "execution_count": 7,
   "id": "16e2a051-ff44-40b2-b677-d5647f74e2f4",
   "metadata": {},
   "outputs": [
    {
     "data": {
      "text/plain": [
       "tuple"
      ]
     },
     "execution_count": 7,
     "metadata": {},
     "output_type": "execute_result"
    }
   ],
   "source": [
    "var4=(\"a\",\"b\",1,3,[1,5,7])\n",
    "type(var4)"
   ]
  },
  {
   "cell_type": "code",
   "execution_count": 4,
   "id": "07c5969b-154b-46e8-94b0-9ba3d9efedfb",
   "metadata": {},
   "outputs": [
    {
     "data": {
      "text/plain": [
       "str"
      ]
     },
     "execution_count": 4,
     "metadata": {},
     "output_type": "execute_result"
    }
   ],
   "source": [
    "#question2\n",
    "var1 = \" \"\n",
    "\n",
    "type(var1)\n"
   ]
  },
  {
   "cell_type": "code",
   "execution_count": 5,
   "id": "f5e1c60d-67db-4104-a182-969777598865",
   "metadata": {},
   "outputs": [],
   "source": [
    "var2 = \"[ DS , ML , Python]\"\n",
    "var3 = [ \"DS\" , \"ML\", \"Python\" ]\n",
    "var4 = 1."
   ]
  },
  {
   "cell_type": "code",
   "execution_count": 6,
   "id": "3d8072f8-40c5-4715-b6f0-c6657852d7bf",
   "metadata": {},
   "outputs": [
    {
     "data": {
      "text/plain": [
       "str"
      ]
     },
     "execution_count": 6,
     "metadata": {},
     "output_type": "execute_result"
    }
   ],
   "source": [
    "type(var2)"
   ]
  },
  {
   "cell_type": "code",
   "execution_count": 7,
   "id": "03fc92ec-e2ab-41b9-8530-bab0d4a3e280",
   "metadata": {},
   "outputs": [
    {
     "data": {
      "text/plain": [
       "list"
      ]
     },
     "execution_count": 7,
     "metadata": {},
     "output_type": "execute_result"
    }
   ],
   "source": [
    "type(var3)"
   ]
  },
  {
   "cell_type": "code",
   "execution_count": 8,
   "id": "42eb68b3-daf4-407d-bc84-a244e8252501",
   "metadata": {},
   "outputs": [
    {
     "data": {
      "text/plain": [
       "float"
      ]
     },
     "execution_count": 8,
     "metadata": {},
     "output_type": "execute_result"
    }
   ],
   "source": [
    "type(var4)"
   ]
  },
  {
   "cell_type": "code",
   "execution_count": 9,
   "id": "47660c65-ff49-4063-bd75-5390acae7fed",
   "metadata": {},
   "outputs": [
    {
     "data": {
      "text/plain": [
       "5.0"
      ]
     },
     "execution_count": 9,
     "metadata": {},
     "output_type": "execute_result"
    }
   ],
   "source": [
    "#question3\n",
    "#/ to divide\n",
    "a=10/2\n",
    "a"
   ]
  },
  {
   "cell_type": "code",
   "execution_count": 10,
   "id": "7b88e100-0f0e-4ca9-83f6-675423e1c34a",
   "metadata": {},
   "outputs": [
    {
     "data": {
      "text/plain": [
       "2"
      ]
     },
     "execution_count": 10,
     "metadata": {},
     "output_type": "execute_result"
    }
   ],
   "source": [
    "#% modulus gives remainder\n",
    "b=50%3\n",
    "b"
   ]
  },
  {
   "cell_type": "code",
   "execution_count": 12,
   "id": "ca060f97-09e3-4cec-ac5c-43dda71beebc",
   "metadata": {},
   "outputs": [
    {
     "data": {
      "text/plain": [
       "1"
      ]
     },
     "execution_count": 12,
     "metadata": {},
     "output_type": "execute_result"
    }
   ],
   "source": [
    "#//\n",
    "c=7//4\n",
    "c"
   ]
  },
  {
   "cell_type": "code",
   "execution_count": 13,
   "id": "e16366c9-da21-426b-a378-d78d17b5bb2a",
   "metadata": {},
   "outputs": [
    {
     "data": {
      "text/plain": [
       "16"
      ]
     },
     "execution_count": 13,
     "metadata": {},
     "output_type": "execute_result"
    }
   ],
   "source": [
    "#** exponetial\n",
    "d=2**4\n",
    "d"
   ]
  },
  {
   "cell_type": "code",
   "execution_count": 16,
   "id": "4f81c0e3-3f9c-43d6-b5b9-6bcc38e0040d",
   "metadata": {},
   "outputs": [
    {
     "name": "stdout",
     "output_type": "stream",
     "text": [
      "1\n",
      "3\n",
      "6\n",
      "9\n",
      "11\n",
      "14\n",
      "16\n",
      "17\n",
      "19\n",
      "25\n"
     ]
    }
   ],
   "source": [
    "#question 4\n",
    "list1=[1,3,6,9,11,14,16,17,19,25]\n",
    "for i in list1:\n",
    "    print(i)"
   ]
  },
  {
   "cell_type": "code",
   "execution_count": 11,
   "id": "140b5ab0-6c19-4891-94f0-4db310f63b9b",
   "metadata": {},
   "outputs": [
    {
     "name": "stdout",
     "output_type": "stream",
     "text": [
      "3\n"
     ]
    }
   ],
   "source": [
    "#question5\n",
    "a=1000\n",
    "b=2\n",
    "count=0\n",
    "while(a%b==0):\n",
    "    a=a/b\n",
    "    count=count+1\n",
    "print(count)\n",
    "    "
   ]
  },
  {
   "cell_type": "code",
   "execution_count": 12,
   "id": "bbb3ec67-300a-426f-b331-3c72aa0a9802",
   "metadata": {},
   "outputs": [
    {
     "name": "stdout",
     "output_type": "stream",
     "text": [
      "3\n",
      "6\n",
      "9\n",
      "12\n",
      "21\n",
      "24\n",
      "36\n",
      "90\n",
      "45\n",
      "195\n",
      "72\n",
      "81\n",
      "126\n",
      "240\n"
     ]
    }
   ],
   "source": [
    "#question 6\n",
    "list3=[2,3,5,6,9,12,21,24,25,26,36,90,45,112,125,195,72,81,34,26,95,11,13,126,240]\n",
    "for i in list3:\n",
    "    if (i%3==0):\n",
    "        print(i)"
   ]
  },
  {
   "cell_type": "code",
   "execution_count": 1,
   "id": "35f14661-3629-4958-9206-bc523e8a5e35",
   "metadata": {},
   "outputs": [
    {
     "data": {
      "text/plain": [
       "5"
      ]
     },
     "execution_count": 1,
     "metadata": {},
     "output_type": "execute_result"
    }
   ],
   "source": [
    "#question7\n",
    "# mutable data type means one that can be changed ex list\n",
    "#immutable means that cannot be changed ex tuple\n",
    "a=[1,2,5,[\"a\",\"b\"],\"abcd\"]\n",
    "a[2]\n"
   ]
  },
  {
   "cell_type": "code",
   "execution_count": 2,
   "id": "376ba17d-69d2-411f-af98-2a8a94fc182d",
   "metadata": {},
   "outputs": [],
   "source": [
    "a[2]=\"xyz\""
   ]
  },
  {
   "cell_type": "code",
   "execution_count": 3,
   "id": "43281ed7-bd2d-4e24-8230-153b5a98f12e",
   "metadata": {},
   "outputs": [
    {
     "data": {
      "text/plain": [
       "'xyz'"
      ]
     },
     "execution_count": 3,
     "metadata": {},
     "output_type": "execute_result"
    }
   ],
   "source": [
    "a[2]"
   ]
  },
  {
   "cell_type": "code",
   "execution_count": 4,
   "id": "13521980-e108-4dcd-9aba-c0d3660572fb",
   "metadata": {},
   "outputs": [],
   "source": [
    "b=(12,14,\"abcd\",\"xyz\")"
   ]
  },
  {
   "cell_type": "code",
   "execution_count": 5,
   "id": "afde8be6-7d96-485e-8d95-13a4afb83a41",
   "metadata": {},
   "outputs": [
    {
     "data": {
      "text/plain": [
       "'abcd'"
      ]
     },
     "execution_count": 5,
     "metadata": {},
     "output_type": "execute_result"
    }
   ],
   "source": [
    "b[2]"
   ]
  },
  {
   "cell_type": "code",
   "execution_count": 6,
   "id": "fcba01a4-f2fd-4ca7-82ff-e3507f93f248",
   "metadata": {},
   "outputs": [
    {
     "ename": "TypeError",
     "evalue": "'tuple' object does not support item assignment",
     "output_type": "error",
     "traceback": [
      "\u001b[0;31m---------------------------------------------------------------------------\u001b[0m",
      "\u001b[0;31mTypeError\u001b[0m                                 Traceback (most recent call last)",
      "Cell \u001b[0;32mIn[6], line 1\u001b[0m\n\u001b[0;32m----> 1\u001b[0m \u001b[43mb\u001b[49m\u001b[43m[\u001b[49m\u001b[38;5;241;43m2\u001b[39;49m\u001b[43m]\u001b[49m\u001b[38;5;241m=\u001b[39m\u001b[38;5;124m\"\u001b[39m\u001b[38;5;124mapuu\u001b[39m\u001b[38;5;124m\"\u001b[39m\n",
      "\u001b[0;31mTypeError\u001b[0m: 'tuple' object does not support item assignment"
     ]
    }
   ],
   "source": [
    "b[2]=\"apuu\""
   ]
  },
  {
   "cell_type": "code",
   "execution_count": null,
   "id": "fc0d226b-4aa9-4b64-b156-74b3c6f12d2f",
   "metadata": {},
   "outputs": [],
   "source": []
  }
 ],
 "metadata": {
  "kernelspec": {
   "display_name": "Python 3 (ipykernel)",
   "language": "python",
   "name": "python3"
  },
  "language_info": {
   "codemirror_mode": {
    "name": "ipython",
    "version": 3
   },
   "file_extension": ".py",
   "mimetype": "text/x-python",
   "name": "python",
   "nbconvert_exporter": "python",
   "pygments_lexer": "ipython3",
   "version": "3.10.8"
  }
 },
 "nbformat": 4,
 "nbformat_minor": 5
}
